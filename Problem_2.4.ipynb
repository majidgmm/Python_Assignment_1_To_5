{
 "cells": [
  {
   "cell_type": "code",
   "execution_count": 1,
   "metadata": {},
   "outputs": [
    {
     "name": "stdout",
     "output_type": "stream",
     "text": [
      "14.697\n"
     ]
    }
   ],
   "source": [
    "#1.1 Write a Python Program(with class concepts) to find the area of the triangle using the below\n",
    "#formula. area = (s*(s-a)*(s-b)*(s-c)) ** 0.5\n",
    "#Function to take the length of the sides of triangle from user should be defined in the parent class and function \n",
    "#to calculate the area should be defined in subclass.\n",
    "\n",
    "class Triangle:\n",
    "    def __init__(self, a, b, c):\n",
    "        self.a = a\n",
    "        self.b = b\n",
    "        self.c = c\n",
    "    def area(self):\n",
    "        s = (self.a + self.b + self.c)/2\n",
    "        A = (s*(s-self.a)*(s-self.b)*(s-self.c))**0.5\n",
    "        print(round(A,3))\n",
    "tri=Triangle(5,6,7)\n",
    "tri.area()\n",
    "    "
   ]
  },
  {
   "cell_type": "code",
   "execution_count": 33,
   "metadata": {},
   "outputs": [
    {
     "name": "stdout",
     "output_type": "stream",
     "text": [
      "['Indian']\n"
     ]
    }
   ],
   "source": [
    "#1.2 Write a function filter_long_words() that takes a list of words and an integer n and returns \n",
    "#the list of words that are longer than n.\n",
    "\n",
    "def filter_Long_words(lst, num):\n",
    "    lans = []\n",
    "    for e in lst:\n",
    "        if len(e)>num:\n",
    "            lans.append(e)\n",
    "    return lans\n",
    "lst = [\"majid\", \"malek\", \"Indian\", \"pin\", \"pen\"]\n",
    "ans = filter_Long_words(lst, 5)\n",
    "print(ans)\n",
    "    \n"
   ]
  },
  {
   "cell_type": "code",
   "execution_count": 36,
   "metadata": {},
   "outputs": [
    {
     "name": "stdout",
     "output_type": "stream",
     "text": [
      "[5, 5, 6, 3, 3]\n"
     ]
    }
   ],
   "source": [
    "#2.1 Write a Python program using function concept that maps list of words into a list of integers\n",
    "#representing the lengths of the corresponding words .\n",
    "def text_to_len(lst):\n",
    "    lens=[]\n",
    "    for e in lst:\n",
    "        lens.append(len(e))\n",
    "    return lens\n",
    "lst = [\"majid\", \"malek\", \"Indian\", \"pin\", \"pen\"]\n",
    "tl = text_to_len(lst)\n",
    "print(tl)"
   ]
  },
  {
   "cell_type": "code",
   "execution_count": 44,
   "metadata": {},
   "outputs": [
    {
     "name": "stdout",
     "output_type": "stream",
     "text": [
      "False\n",
      "True\n"
     ]
    }
   ],
   "source": [
    "#2.2 Write a Python function which takes a character (i.e. a string of length 1) and returns True if\n",
    "#it is a vowel, False otherwise.\n",
    "def vowel(chr):\n",
    "    vowels = ['a','e','i','o','u']\n",
    "    if len(chr) > 1:\n",
    "        print('Enter One Character Only')\n",
    "        return\n",
    "    elif chr in vowels:\n",
    "        return True\n",
    "    else:\n",
    "        return False\n",
    "print(vowel('m'))\n",
    "print(vowel('a'))\n"
   ]
  }
 ],
 "metadata": {
  "kernelspec": {
   "display_name": "Python 3",
   "language": "python",
   "name": "python3"
  },
  "language_info": {
   "codemirror_mode": {
    "name": "ipython",
    "version": 3
   },
   "file_extension": ".py",
   "mimetype": "text/x-python",
   "name": "python",
   "nbconvert_exporter": "python",
   "pygments_lexer": "ipython3",
   "version": "3.6.5"
  }
 },
 "nbformat": 4,
 "nbformat_minor": 2
}
