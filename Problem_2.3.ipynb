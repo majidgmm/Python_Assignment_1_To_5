{
 "cells": [
  {
   "cell_type": "code",
   "execution_count": 2,
   "metadata": {},
   "outputs": [
    {
     "name": "stdout",
     "output_type": "stream",
     "text": [
      "Reduced ddtion:  66\n",
      "Maximum number is:  16\n"
     ]
    }
   ],
   "source": [
    "#1.1 Write a Python Program to implement your own myreduce() function which works exactly\n",
    "#like Python's built-in function reduce()\n",
    "\n",
    "# Reduce Function\n",
    "def myreduce(fn,lst):\n",
    "    ctr = 1\n",
    "    out = lst[0]\n",
    "    while ctr < len(lst):\n",
    "        next = lst[ctr]\n",
    "        out = fn(out,next)\n",
    "        #print(out)\n",
    "        #print ('Length',len(lst),'Control :', ctr)\n",
    "        ctr = ctr+1\n",
    "    return out\n",
    "\n",
    "# New function to use with myreduce()\n",
    "def add(a,b):\n",
    "    return a+b\n",
    "lst = [2,4,5,6,7,12,14,16]\n",
    "\n",
    "# Addtional functions to use with myreduce()\n",
    "#Find the maximum of a sequence (This already exists as max())\n",
    "max_find = lambda a,b: a if (a > b) else b\n",
    "\n",
    "add_reduce = myreduce(add,lst)\n",
    "print('Reduced ddtion: ',add_reduce)\n",
    "\n",
    "max_reduce = myreduce(max_find, lst)\n",
    "print ('Maximum number is: ', max_reduce)\n"
   ]
  },
  {
   "cell_type": "code",
   "execution_count": 4,
   "metadata": {},
   "outputs": [
    {
     "name": "stdout",
     "output_type": "stream",
     "text": [
      "[0, 2, 4, 6, 8, 10, 12, 14, 16, 18]\n"
     ]
    },
    {
     "data": {
      "text/plain": [
       "[0, 2, 4, 6, 8, 10, 12, 14, 16, 18]"
      ]
     },
     "execution_count": 4,
     "metadata": {},
     "output_type": "execute_result"
    }
   ],
   "source": [
    "#1.2 Write a Python program to implement your own myfilter() function which works exactly like\n",
    "#Python's built-in function filter()\n",
    "def myfilter(fn,lst):\n",
    "    out=[]\n",
    "    for e in lst:\n",
    "        if fn(e)==True:\n",
    "            out.append(e)    \n",
    "    return out\n",
    "\n",
    "#Function to test\n",
    "def even_check(num):\n",
    "    if num%2 ==0:\n",
    "        return True\n",
    "lst =range(20)\n",
    "\n",
    "#myfilter test\n",
    "filt = myfilter(even_check,lst)\n",
    "print (filt)\n",
    "\n",
    "list(myfilter(lambda x: x%2==0,lst))\n"
   ]
  },
  {
   "cell_type": "code",
   "execution_count": 208,
   "metadata": {},
   "outputs": [
    {
     "name": "stdout",
     "output_type": "stream",
     "text": [
      "['A', 'C', 'A', 'D', 'G', 'I', 'L', 'D']\n",
      "['x', 'xx', 'xxx', 'xxxx', 'y', 'yy', 'yyy', 'yyyy', 'z', 'zz', 'zzz', 'zzzz']\n",
      "['x', 'y', 'z', 'xx', 'yy', 'zz', 'xxx', 'yyy', 'zzz', 'xxxx', 'yyyy', 'zzzz']\n",
      "[[2], [3], [4], [3], [4], [5], [4], [5], [6]]\n",
      "[[2, 3, 4, 5], [3, 4, 5, 6], [4, 5, 6, 7], [5, 6, 7, 8]]\n",
      "[(1, 1), (2, 1), (3, 1), (1, 2), (2, 2), (3, 2), (1, 3), (2, 3), (3, 3)]\n"
     ]
    }
   ],
   "source": [
    "# 2. Implement List comprehensions to produce the following lists.\n",
    "#['A', 'C', 'A', 'D', 'G', 'I', ’L’, ‘ D’]\n",
    "str='ACADGILD'\n",
    "lst = [i for i in str]\n",
    "print(lst)\n",
    "\n",
    "#['x', 'xx', 'xxx', 'xxxx', 'y', 'yy', 'yyy', 'yyyy', 'z', 'zz', 'zzz', 'zzzz']\n",
    "num = 1,2,3,4\n",
    "str = 'xyz'\n",
    "lst = [i*n for i in str for n in num]\n",
    "print(lst)\n",
    "\n",
    "#['x', 'y', 'z', 'xx', 'yy', 'zz', 'xx', 'yy', 'zz', 'xxxx', 'yyyy', 'zzzz']\n",
    "lst = [i*n for n in num for i in str]\n",
    "print(lst)\n",
    "\n",
    "#[[2], [3], [4], [3], [4], [5], [4], [5], [6]]\n",
    "num = 1,2,3\n",
    "lst = [[x+y] for x in num for y in num]\n",
    "print(lst)\n",
    "\n",
    "#[[2, 3, 4, 5], [3, 4, 5, 6], [4, 5, 6, 7], [5, 6, 7, 8]]\n",
    "num = (1,2,3,4)\n",
    "lst = [[x+y for x in num] for y in (num)]\n",
    "print(lst)\n",
    "\n",
    "#[(1, 1), (2, 1), (3, 1), (1, 2), (2, 2), (3, 2), (1, 3), (2, 3), (3, 3)]\n",
    " \n",
    "num = 1,2,3\n",
    "lst = [(y,x) for x in (num) for y in (num)]\n",
    "print (lst)"
   ]
  },
  {
   "cell_type": "code",
   "execution_count": 200,
   "metadata": {},
   "outputs": [
    {
     "name": "stdout",
     "output_type": "stream",
     "text": [
      "International\n"
     ]
    }
   ],
   "source": [
    "#3.Implement a function longestWord() that takes a list of words and returns the longest one.\n",
    "def LongestWord(lst):\n",
    "    longest=0\n",
    "    for e in lst:\n",
    "        if len(e)>longest:\n",
    "            longest=len(e)\n",
    "            word=e\n",
    "    return word\n",
    "lst = ['majid', 'Indian', 'International','Malek','Manager']\n",
    "long=LongestWord(lst)\n",
    "print(long)"
   ]
  }
 ],
 "metadata": {
  "kernelspec": {
   "display_name": "Python 3",
   "language": "python",
   "name": "python3"
  },
  "language_info": {
   "codemirror_mode": {
    "name": "ipython",
    "version": 3
   },
   "file_extension": ".py",
   "mimetype": "text/x-python",
   "name": "python",
   "nbconvert_exporter": "python",
   "pygments_lexer": "ipython3",
   "version": "3.6.5"
  }
 },
 "nbformat": 4,
 "nbformat_minor": 2
}
