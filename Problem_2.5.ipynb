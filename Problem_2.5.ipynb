{
 "cells": [
  {
   "cell_type": "code",
   "execution_count": 43,
   "metadata": {},
   "outputs": [
    {
     "name": "stdout",
     "output_type": "stream",
     "text": [
      "Error while supplying denominator!! division by zero\n",
      "Division is: 5.0\n"
     ]
    }
   ],
   "source": [
    "#1. Write a function to compute 5/0 and use try/except to catch the exceptions.\n",
    "\n",
    "def div(num,denom):\n",
    "    try:\n",
    "        print(\"Division is:\", num/denom)\n",
    "    except ZeroDivisionError as e:\n",
    "        print(\"Error while supplying denominator!!\",e)\n",
    "div(5,0)\n",
    "div(10,2)\n"
   ]
  },
  {
   "cell_type": "code",
   "execution_count": 32,
   "metadata": {},
   "outputs": [
    {
     "name": "stdout",
     "output_type": "stream",
     "text": [
      "Americans Play Baseball.\n",
      "Americans Play Cricket.\n",
      "Americans watch Baseball.\n",
      "Americans watch Cricket.\n",
      "Indians Play Baseball.\n",
      "Indians Play Cricket.\n",
      "Indians watch Baseball.\n",
      "Indians watch Cricket.\n"
     ]
    }
   ],
   "source": [
    "#2. Implement a Python program to generate all sentences where subject is in [\"Americans\",\n",
    "#\"Indians\"] and verb is in [\"Play\", \"watch\"] and the object is in [\"Baseball\",\"cricket\"].\n",
    "sub=[\"Americans\",\"Indians\"]\n",
    "verb=[\"Play\",\"watch\"]\n",
    "obj=[\"Baseball\",\"Cricket\"]\n",
    "def sen(sub,verb,obj):\n",
    "    for s in sub:\n",
    "        for v in verb:\n",
    "            for o in obj:\n",
    "                print(s+\" \"+v+\" \"+o+'.')\n",
    "\n",
    "sen(sub,verb,obj)"
   ]
  }
 ],
 "metadata": {
  "kernelspec": {
   "display_name": "Python 3",
   "language": "python",
   "name": "python3"
  },
  "language_info": {
   "codemirror_mode": {
    "name": "ipython",
    "version": 3
   },
   "file_extension": ".py",
   "mimetype": "text/x-python",
   "name": "python",
   "nbconvert_exporter": "python",
   "pygments_lexer": "ipython3",
   "version": "3.6.5"
  }
 },
 "nbformat": 4,
 "nbformat_minor": 2
}
